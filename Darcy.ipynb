{
 "cells": [
  {
   "cell_type": "markdown",
   "metadata": {},
   "source": [
    "# Travail Personnel (optionel, voir fiche de cours) d'analyse numérique MATH-F314(1), année académique 2023-2024\n",
    "\n",
    "## Nom / Prénom :\n",
    "\n",
    "+++\n",
    "\n",
    "Remarque: en soumettant ce travail, vous vous engagez à le faire de manière individuelle. Tout plagiat sera sanctionné selon le réglement en vigueur à l'Université Libre de Bruxelles.\n",
    "\n",
    "La date limite de remise de ce travail est le 22/12/2023 à 11h59:59s. Après cette date, il ne sera pas comptabilisé.\n",
    "\n",
    "+++\n",
    "\n"
   ]
  },
  {
   "cell_type": "markdown",
   "metadata": {},
   "source": [
    "## Introduction"
   ]
  },
  {
   "cell_type": "markdown",
   "metadata": {},
   "source": [
    "Dans un milieu poreux, la vitesse d'un écoulement incompressible ($\\nabla.\\mathbf{u}=0$) obéit à l'équation de Darcy :\n",
    "\n",
    "$$\\mathbf{u}=-\\frac K \\mu(\\nabla P - \\rho\\,g\\,\\mathbf{1}_z),$$\n",
    "\n",
    "avec $K$ la perméabilité du milieu, $\\mu$ la viscosité du fluide, $P$ la pression et $g$ l'accélération de la pesanteur (dirigée dans la direction $\\mathbf{1}_z$).\n",
    "\n",
    "Si un soluté est présent dans le fluide en mouvement, sa concentration évolue suivant l'équation d'advection-diffusion :\n",
    "\n",
    "$$\\phi\\frac{\\partial C}{\\partial t}=-\\mathbf{u}.\\nabla C + \\phi D\\nabla^2C,$$\n",
    "\n",
    "où $\\phi$ est la porosité du millieu et $D$ le coefficient de diffusion du soluté. Le premier terme de droite exprime le transport du soluté dû à l'écoulement du fluide, tandis que le second exprime le transport du soluté lié à sa diffusion. Ce système d'équations apparait dans l'étude de la stabilité de solutions chimiques en milieu poreux. On choissisant bien les unités, on peut adimensionaliser les équations comme:\n",
    "\n",
    "$$\n",
    "\\mathbf{u}=-\\nabla P + C\\mathbf{1}_z, \\quad \\frac{\\partial C}{\\partial t}=-\\mathbf{u}.\\nabla C + \\frac{1}{Ra}\\nabla^2C, \\quad \\nabla \\cdot \\mathbf{u}=0\n",
    "$$\n",
    "où le nombre de Rayleigh mesure le rapport entre transports diffusif et convectif. \n",
    "\n",
    "Nous considérons ici un milieu poreux à deux dimensions $(x,z)$, semi-infini dans la direction $z$ ($z \\in [0,\\infty ]$). La vitesse est donc $\\mathbf{u}=(u,w)$. \n",
    "\n",
    "Afin de linéariser ces équations, décomposons la vitesse verticale et la concentration en:\n",
    "\n",
    "$$\n",
    "(w,c) = (w'(z,t)\\mathrm{e}^{ikx},C_0(z,t)+c'(z,t)\\mathrm{e}^{ikx}).\n",
    "$$\n",
    "où $k$ est le nombre d'onde des perturbations dans la direction $x$.\n",
    "Par ailleurs, $C_0(z,t)$ est l'état de base non perturbé de la concentration tandis que $w'(z,t)\\mathrm{e}^{ikx}$ et $c'(z,t)\\mathrm{e}^{ikx}$ sont des perturbations infinitésimales. \n",
    "\n",
    "L'état de base $C_0(z,t)$ est la solution des équations du mouvement pour $\\mathbf{u}=0$,\n",
    "$C_0(z=0,t)=1 \\, , t>0$ et $C_0(z,0)=0\\, , z> 0$. Il est donné par,\n",
    "\n",
    "$$\n",
    "C_0(z,t)=1-{\\rm erf}(z\\sqrt{\\frac{Ra}{4t}})\n",
    "$$\n",
    "\n",
    "${\\rm erf}$ étant la fonction d'erreur (https://en.wikipedia.org/wiki/Error_function). Ceci implique par ailleurs:\n",
    "\n",
    "$$\n",
    "\\frac{\\partial C_0}{\\partial z} = -\n",
    "\\frac{2}{\\sqrt{\\pi}}\\sqrt{\\frac{Ra}{4t}}e^{-\\left(z\\sqrt{\\frac{Ra}{4t}}\\right)^2}.\n",
    "$$\n",
    "\n",
    "Cette décomposition permet d'obtenir les équations linéarisées auxquelles les perturbations $w'(z,t)$ et $c'(z,t)$ obéissent:\n",
    "\n",
    "$$\\left(\\frac{\\partial^2}{\\partial z^2}-k^2\\right)w' = -k^2 c'$$\n",
    "\n",
    "$$\n",
    "\\frac{\\partial c'}{\\partial t}-\\frac{1}{Ra}\\left(\\frac{\\partial^2}{\\partial z^2}-k^2\\right)c'=-\\frac{\\partial C_0}{\\partial z}w',$$\n",
    "\n",
    "Nous souhaitons ici que la concentration soit fixée à 1 en $z=0$ et qu'elle s'annule en $z\\rightarrow\\infty$. Ceci se traduit par $c'(z=0,t)=c'(z=\\infty,t)=0$. De plus la vitesse verticale $w'$ s'annulle sur le bord supérieur du domaine et pour $z\\rightarrow \\infty$."
   ]
  },
  {
   "cell_type": "markdown",
   "metadata": {},
   "source": [
    "### Question 1"
   ]
  },
  {
   "cell_type": "markdown",
   "metadata": {},
   "source": [
    "Soit la variable de similarité $\\xi$ définie par $\\xi=z\\sqrt{\\frac{Ra}{4t}}$. Montrer qu'en termes des variables $\\xi$ et $t$ le système d'equations ci-dessus s'écrit comme (nous laissons tomber les '):\n",
    "\n",
    "$$\\left(\\frac{Ra}{4t}\\frac{\\partial^2}{\\partial \\xi^2}-k^2\\right)w = -k^2 c$$\n",
    "\n",
    "$$\n",
    "\\frac{\\partial c}{\\partial t}-\\frac{1}{t}\\left(\\frac{1}{4}\\frac{\\partial^2}{\\partial \\xi^2}+\\frac{\\xi}{2}\\frac{\\partial}{\\partial\\xi}-\\frac{k^2 t}{Ra}\\right)c=\\sqrt{\\frac{Ra}{\\pi t}}e^{-\\xi^2}w\n",
    "$$"
   ]
  },
  {
   "cell_type": "markdown",
   "metadata": {},
   "source": [
    "### Question 2\n",
    "\n",
    "La variable $\\xi$ est discrétisée sur une grille uniforme:\n",
    "\n",
    "$$\n",
    "\\xi_m = m\\Delta, \\quad m=0, 1,..., 100\n",
    "$$\n",
    "\n",
    "On a alors $c_m = c(\\xi_m,t)$ et $w_m=w(\\xi_m,t)$.\n",
    "\n",
    "En utilisant des différences finies centrées d'ordre 2, comment s'écrivent les opérateurs suivants?\n",
    "\n",
    "$$\n",
    "\\begin{align}\n",
    "L_{i,j} = \\left(\\frac{Ra}{4t}\\frac{\\partial^2}{\\partial \\xi^2}-k^2\\right)_{i,j}\\\\\n",
    "M_{i,j} = \\frac{1}{t}\\left(\\frac{1}{4}\\frac{\\partial^2}{\\partial \\xi^2}+\\frac{\\xi}{2}\\frac{\\partial}{\\partial\\xi}-\\frac{k^2 t}{Ra}\\right)_{i,j}\n",
    "\\end{align}\n",
    "$$\n",
    "\n",
    "avec comme conditions aux bords,\n",
    "\n",
    "$$\n",
    "c(\\xi=0,t)=c(\\xi\\rightarrow\\infty,t)=w(\\xi=0,t)=w(\\xi\\rightarrow\\infty,t)=0\n",
    "$$\n",
    "\n",
    "### Question 3\n",
    "\n",
    "Soit $f(\\xi)=e^{-\\xi^2}h(\\xi)$ où $h$ est une solution de l'équation de Hermite $h^{''}-2\\xi h'=-2\\alpha h$. Montrer que $f$ est alors une fonction propre de l'opérateur\n",
    "\n",
    "$$\n",
    "Hf = \\frac{1}{4}\\frac{\\partial^2 f}{\\partial \\xi^2}+\\frac{\\xi}{2}\\frac{\\partial f}{\\partial\\xi}=\\alpha f\n",
    "$$\n",
    "\n",
    "Si $f(\\xi=0)=f(\\xi=\\infty)=0$, quelles sont les valeurs admissibles pour $\\alpha$?\n",
    "\n",
    "*Indice:* voir la section 'Hermite's differential equation' de la page https://en.wikipedia.org/wiki/Hermite_polynomials\n",
    "\n",
    "### Question 4\n",
    "\n",
    "Pour valider la construction des opérateurs de dérivées premières et secondes, calculer **numériquement** les 5 plus grandes valeurs propres de l'opérateur $H$ et montrer qu'elles sont identiques à celles déterminées à la question 3.\n",
    "\n",
    "On peut à cet effet utiliser la fonction `numpy.linalg.eig` et on prendra: $\\Delta=L/(N-1)$ avec $L=5$ et $N=101$."
   ]
  },
  {
   "cell_type": "markdown",
   "metadata": {},
   "source": [
    "### Question 5"
   ]
  },
  {
   "cell_type": "markdown",
   "metadata": {},
   "source": [
    "Calculer l'évolution au cours du temps de la fonction $c(\\xi_m,t)$ à partir de la condition initiale aléatoire fournie pour ce devoir. Si elle se trouve dans le même directoire que le notebook, elle peut être chargée en utilisant la commande:\n",
    "\n",
    "`c_i = numpy.load(\"init_cond_c.npy\")`\n",
    "\n",
    "On prendra comme temps initial $t_0=10^{-5}$ ainsi que $Ra=500$ et $k=0.1$.\n",
    "\n",
    "* Représenter sur un même graphique la condition initiale $c_i(\\xi_m,t_0)$ et la solution à l'instant $t=10^{-4}$.\n",
    "* Que vaut la valeur maximale de la solution en $t=10^{-4}$ ?\n",
    "\n",
    "L'avancement de la solution dans le temps doit se faire avec l'algorithme RK4 et il faut prendre $dt=10^{-8}$.\n",
    "\n"
   ]
  },
  {
   "cell_type": "markdown",
   "metadata": {},
   "source": [
    "### Question 6"
   ]
  },
  {
   "cell_type": "markdown",
   "metadata": {},
   "source": [
    "Réalisez une animation de l'évolution au cours du temps de votre solution."
   ]
  }
 ],
 "metadata": {
  "anaconda-cloud": {},
  "kernelspec": {
   "display_name": "Python 3",
   "language": "python",
   "name": "python3"
  },
  "language_info": {
   "codemirror_mode": {
    "name": "ipython",
    "version": 3
   },
   "file_extension": ".py",
   "mimetype": "text/x-python",
   "name": "python",
   "nbconvert_exporter": "python",
   "pygments_lexer": "ipython3",
   "version": "3.8.5"
  }
 },
 "nbformat": 4,
 "nbformat_minor": 2
}
